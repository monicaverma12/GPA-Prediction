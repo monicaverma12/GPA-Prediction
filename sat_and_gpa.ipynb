{
  "nbformat": 4,
  "nbformat_minor": 0,
  "metadata": {
    "colab": {
      "name": "sat and gpa.ipynb",
      "provenance": []
    },
    "kernelspec": {
      "name": "python3",
      "display_name": "Python 3"
    },
    "language_info": {
      "name": "python"
    }
  },
  "cells": [
    {
      "cell_type": "code",
      "execution_count": null,
      "metadata": {
        "id": "lsbIjWlEMYb8"
      },
      "outputs": [],
      "source": [
        "#Import libraries\n",
        "import numpy as np\n",
        "import pandas as pd\n",
        "import matplotlib.pyplot as plt"
      ]
    },
    {
      "cell_type": "code",
      "source": [
        "df = pd.read_csv(\"/1.01. Simple linear regression.csv\")"
      ],
      "metadata": {
        "id": "ZWnbQfxkMlD_"
      },
      "execution_count": null,
      "outputs": []
    },
    {
      "cell_type": "code",
      "source": [
        "df.head"
      ],
      "metadata": {
        "colab": {
          "base_uri": "https://localhost:8080/"
        },
        "id": "E4zW5b40RYO9",
        "outputId": "d63b43cb-3911-4e20-f5a3-5fdc936aa919"
      },
      "execution_count": null,
      "outputs": [
        {
          "output_type": "execute_result",
          "data": {
            "text/plain": [
              "<bound method NDFrame.head of      SAT   GPA\n",
              "0   1714  2.40\n",
              "1   1664  2.52\n",
              "2   1760  2.54\n",
              "3   1685  2.74\n",
              "4   1693  2.83\n",
              "..   ...   ...\n",
              "79  1936  3.71\n",
              "80  1810  3.71\n",
              "81  1987  3.73\n",
              "82  1962  3.76\n",
              "83  2050  3.81\n",
              "\n",
              "[84 rows x 2 columns]>"
            ]
          },
          "metadata": {},
          "execution_count": 4
        }
      ]
    },
    {
      "cell_type": "code",
      "source": [
        "from google.colab import drive\n",
        "drive.mount('/content/drive')"
      ],
      "metadata": {
        "colab": {
          "base_uri": "https://localhost:8080/"
        },
        "id": "2MgGU4ixYs1e",
        "outputId": "e8eb1bf0-c1a9-41e4-f044-6bb204b7c83d"
      },
      "execution_count": null,
      "outputs": [
        {
          "output_type": "stream",
          "name": "stdout",
          "text": [
            "Drive already mounted at /content/drive; to attempt to forcibly remount, call drive.mount(\"/content/drive\", force_remount=True).\n"
          ]
        }
      ]
    },
    {
      "cell_type": "code",
      "source": [
        "df.isnull().sum()"
      ],
      "metadata": {
        "colab": {
          "base_uri": "https://localhost:8080/"
        },
        "id": "1AaySmPbRbK0",
        "outputId": "d9bf280c-985f-49c3-bf3d-84b7ae8618b7"
      },
      "execution_count": null,
      "outputs": [
        {
          "output_type": "execute_result",
          "data": {
            "text/plain": [
              "SAT    0\n",
              "GPA    0\n",
              "dtype: int64"
            ]
          },
          "metadata": {},
          "execution_count": 6
        }
      ]
    },
    {
      "cell_type": "code",
      "source": [
        "plt.scatter(x =df.SAT, y = df.GPA)\n",
        "plt.xlabel(\"SAT\")\n",
        "plt.ylabel(\"GPA\")\n",
        "plt.title(\"SAT AND GPA SCATTER PLOT\")\n",
        "plt.show()"
      ],
      "metadata": {
        "colab": {
          "base_uri": "https://localhost:8080/",
          "height": 295
        },
        "id": "UZgYT8lpSJ2F",
        "outputId": "7d4a034d-0d0d-4b07-e981-0ae5e16f3008"
      },
      "execution_count": null,
      "outputs": [
        {
          "output_type": "display_data",
          "data": {
            "image/png": "[encoded data removed]",
            "text/plain": [
              "<Figure size 432x288 with 1 Axes>"
            ]
          },
          "metadata": {
            "needs_background": "light"
          }
        }
      ]
    },
    {
      "cell_type": "code",
      "source": [
        "sat = df.drop(\"GPA\", axis = \"columns\")\n",
        "gpa = df.drop(\"SAT\", axis = \"columns\")\n",
        "print(\"shape of X = \", sat.shape)\n",
        "print(\"shape of y = \", gpa.shape)"
      ],
      "metadata": {
        "colab": {
          "base_uri": "https://localhost:8080/"
        },
        "id": "qNJNcqx3Wgnq",
        "outputId": "c6d8d796-abae-45c5-9ede-b6d83c6f4593"
      },
      "execution_count": null,
      "outputs": [
        {
          "output_type": "stream",
          "name": "stdout",
          "text": [
            "shape of X =  (84, 1)\n",
            "shape of y =  (84, 1)\n"
          ]
        }
      ]
    },
    {
      "cell_type": "code",
      "source": [
        "from sklearn.model_selection import train_test_split\n",
        "sat_train, sat_test,gpa_train,gpa_test = train_test_split(sat,gpa, test_size = 0.2, random_state=51)\n",
        "print(\"shape of sat_train = \", sat_train.shape)\n",
        "print(\"shape of gpa_train = \", gpa_train.shape)\n",
        "print(\"shape of sat_test = \", sat_test.shape)\n",
        "print(\"shape of gpa_test = \", gpa_test.shape)"
      ],
      "metadata": {
        "colab": {
          "base_uri": "https://localhost:8080/"
        },
        "id": "nhCe4M2cSyQD",
        "outputId": "b17e6838-34a4-4faf-d32f-adebee405c2d"
      },
      "execution_count": null,
      "outputs": [
        {
          "output_type": "stream",
          "name": "stdout",
          "text": [
            "shape of sat_train =  (67, 1)\n",
            "shape of gpa_train =  (67, 1)\n",
            "shape of sat_test =  (17, 1)\n",
            "shape of gpa_test =  (17, 1)\n"
          ]
        }
      ]
    },
    {
      "cell_type": "code",
      "source": [
        " # y = m * x + c\n",
        " from sklearn.linear_model import LinearRegression\n",
        " lr = LinearRegression()"
      ],
      "metadata": {
        "id": "5n-gKMKrWfil"
      },
      "execution_count": null,
      "outputs": []
    },
    {
      "cell_type": "code",
      "source": [
        "lr.fit(sat_train,gpa_train)"
      ],
      "metadata": {
        "colab": {
          "base_uri": "https://localhost:8080/"
        },
        "id": "T3EuN9_gXS1M",
        "outputId": "0347a05e-7351-4959-b150-fb2757219743"
      },
      "execution_count": null,
      "outputs": [
        {
          "output_type": "execute_result",
          "data": {
            "text/plain": [
              "LinearRegression()"
            ]
          },
          "metadata": {},
          "execution_count": 11
        }
      ]
    },
    {
      "cell_type": "code",
      "source": [
        "lr.coef_"
      ],
      "metadata": {
        "colab": {
          "base_uri": "https://localhost:8080/"
        },
        "id": "7aVFkeZSXaZB",
        "outputId": "3025fdc2-7edf-4aad-c738-6aff2347199b"
      },
      "execution_count": null,
      "outputs": [
        {
          "output_type": "execute_result",
          "data": {
            "text/plain": [
              "array([[0.00140264]])"
            ]
          },
          "metadata": {},
          "execution_count": 12
        }
      ]
    },
    {
      "cell_type": "code",
      "source": [
        "lr.intercept_"
      ],
      "metadata": {
        "colab": {
          "base_uri": "https://localhost:8080/"
        },
        "id": "8x0bSjL8bw6W",
        "outputId": "596739a8-dda8-4326-9060-dd030763a3f2"
      },
      "execution_count": null,
      "outputs": [
        {
          "output_type": "execute_result",
          "data": {
            "text/plain": [
              "array([0.75538366])"
            ]
          },
          "metadata": {},
          "execution_count": 13
        }
      ]
    },
    {
      "cell_type": "code",
      "source": [
        "m = 0.00140264\n",
        "c = 0.75538366\n",
        "y = m * 1850 + c\n",
        "print (y)"
      ],
      "metadata": {
        "colab": {
          "base_uri": "https://localhost:8080/"
        },
        "id": "tP1eBEYKbz6H",
        "outputId": "03603862-df80-4b54-a124-62be226ba325"
      },
      "execution_count": null,
      "outputs": [
        {
          "output_type": "stream",
          "name": "stdout",
          "text": [
            "3.35026766\n"
          ]
        }
      ]
    },
    {
      "cell_type": "code",
      "source": [
        "dir(lr)"
      ],
      "metadata": {
        "id": "FH-gHimKde8N"
      },
      "execution_count": null,
      "outputs": []
    },
    {
      "cell_type": "code",
      "source": [
        "help(lr.predict)"
      ],
      "metadata": {
        "id": "6Rh4C3iVfPo6"
      },
      "execution_count": null,
      "outputs": []
    },
    {
      "cell_type": "code",
      "source": [
        "gpa_pred  = lr.predict(sat_test)\n",
        "gpa_pred"
      ],
      "metadata": {
        "colab": {
          "base_uri": "https://localhost:8080/"
        },
        "id": "EudEXRMCfVN1",
        "outputId": "7a85f367-03ee-442a-f8f0-f1ef715b00d3"
      },
      "execution_count": null,
      "outputs": [
        {
          "output_type": "execute_result",
          "data": {
            "text/plain": [
              "array([[3.45546984],\n",
              "       [3.22403388],\n",
              "       [3.36570074],\n",
              "       [3.63080011],\n",
              "       [3.40216943],\n",
              "       [3.15951234],\n",
              "       [3.35027167],\n",
              "       [3.58170763],\n",
              "       [3.14268063],\n",
              "       [3.3811298 ],\n",
              "       [3.46809362],\n",
              "       [3.18896782],\n",
              "       [3.13005685],\n",
              "       [3.54243365],\n",
              "       [3.46809362],\n",
              "       [3.28294485],\n",
              "       [3.26190522]])"
            ]
          },
          "metadata": {},
          "execution_count": 17
        }
      ]
    },
    {
      "cell_type": "code",
      "source": [
        "help(pd.DataFrame)"
      ],
      "metadata": {
        "id": "QB2HRkj7hjwl"
      },
      "execution_count": null,
      "outputs": []
    },
    {
      "cell_type": "code",
      "source": [
        "pd.DataFrame(np.c_[sat_test, gpa_test, gpa_pred], columns = [\"sat\", \"gpa\",\"gpa_predicted\"])"
      ],
      "metadata": {
        "colab": {
          "base_uri": "https://localhost:8080/",
          "height": 582
        },
        "id": "ZJoREbTrgy01",
        "outputId": "87429b53-a1ef-406f-d4d2-eb93879ee05f"
      },
      "execution_count": null,
      "outputs": [
        {
          "output_type": "execute_result",
          "data": {
            "text/html": [
              "\n",
              "  <div id=\"df-a3661411-0d41-476f-8fb3-e5cdb88cb44a\">\n",
              "    <div class=\"colab-df-container\">\n",
              "      <div>\n",
              "<style scoped>\n",
              "    .dataframe tbody tr th:only-of-type {\n",
              "        vertical-align: middle;\n",
              "    }\n",
              "\n",
              "    .dataframe tbody tr th {\n",
              "        vertical-align: top;\n",
              "    }\n",
              "\n",
              "    .dataframe thead th {\n",
              "        text-align: right;\n",
              "    }\n",
              "</style>\n",
              "<table border=\"1\" class=\"dataframe\">\n",
              "  <thead>\n",
              "    <tr style=\"text-align: right;\">\n",
              "      <th></th>\n",
              "      <th>sat</th>\n",
              "      <th>gpa</th>\n",
              "      <th>gpa_predicted</th>\n",
              "    </tr>\n",
              "  </thead>\n",
              "  <tbody>\n",
              "    <tr>\n",
              "      <th>0</th>\n",
              "      <td>1925.0</td>\n",
              "      <td>3.40</td>\n",
              "      <td>3.455470</td>\n",
              "    </tr>\n",
              "    <tr>\n",
              "      <th>1</th>\n",
              "      <td>1760.0</td>\n",
              "      <td>2.54</td>\n",
              "      <td>3.224034</td>\n",
              "    </tr>\n",
              "    <tr>\n",
              "      <th>2</th>\n",
              "      <td>1861.0</td>\n",
              "      <td>3.58</td>\n",
              "      <td>3.365701</td>\n",
              "    </tr>\n",
              "    <tr>\n",
              "      <th>3</th>\n",
              "      <td>2050.0</td>\n",
              "      <td>3.81</td>\n",
              "      <td>3.630800</td>\n",
              "    </tr>\n",
              "    <tr>\n",
              "      <th>4</th>\n",
              "      <td>1887.0</td>\n",
              "      <td>3.47</td>\n",
              "      <td>3.402169</td>\n",
              "    </tr>\n",
              "    <tr>\n",
              "      <th>5</th>\n",
              "      <td>1714.0</td>\n",
              "      <td>2.40</td>\n",
              "      <td>3.159512</td>\n",
              "    </tr>\n",
              "    <tr>\n",
              "      <th>6</th>\n",
              "      <td>1850.0</td>\n",
              "      <td>3.38</td>\n",
              "      <td>3.350272</td>\n",
              "    </tr>\n",
              "    <tr>\n",
              "      <th>7</th>\n",
              "      <td>2015.0</td>\n",
              "      <td>3.62</td>\n",
              "      <td>3.581708</td>\n",
              "    </tr>\n",
              "    <tr>\n",
              "      <th>8</th>\n",
              "      <td>1702.0</td>\n",
              "      <td>3.39</td>\n",
              "      <td>3.142681</td>\n",
              "    </tr>\n",
              "    <tr>\n",
              "      <th>9</th>\n",
              "      <td>1872.0</td>\n",
              "      <td>3.17</td>\n",
              "      <td>3.381130</td>\n",
              "    </tr>\n",
              "    <tr>\n",
              "      <th>10</th>\n",
              "      <td>1934.0</td>\n",
              "      <td>3.54</td>\n",
              "      <td>3.468094</td>\n",
              "    </tr>\n",
              "    <tr>\n",
              "      <th>11</th>\n",
              "      <td>1735.0</td>\n",
              "      <td>3.08</td>\n",
              "      <td>3.188968</td>\n",
              "    </tr>\n",
              "    <tr>\n",
              "      <th>12</th>\n",
              "      <td>1693.0</td>\n",
              "      <td>2.83</td>\n",
              "      <td>3.130057</td>\n",
              "    </tr>\n",
              "    <tr>\n",
              "      <th>13</th>\n",
              "      <td>1987.0</td>\n",
              "      <td>3.73</td>\n",
              "      <td>3.542434</td>\n",
              "    </tr>\n",
              "    <tr>\n",
              "      <th>14</th>\n",
              "      <td>1934.0</td>\n",
              "      <td>3.28</td>\n",
              "      <td>3.468094</td>\n",
              "    </tr>\n",
              "    <tr>\n",
              "      <th>15</th>\n",
              "      <td>1802.0</td>\n",
              "      <td>3.41</td>\n",
              "      <td>3.282945</td>\n",
              "    </tr>\n",
              "    <tr>\n",
              "      <th>16</th>\n",
              "      <td>1787.0</td>\n",
              "      <td>3.28</td>\n",
              "      <td>3.261905</td>\n",
              "    </tr>\n",
              "  </tbody>\n",
              "</table>\n",
              "</div>\n",
              "      <button class=\"colab-df-convert\" onclick=\"convertToInteractive('df-a3661411-0d41-476f-8fb3-e5cdb88cb44a')\"\n",
              "              title=\"Convert this dataframe to an interactive table.\"\n",
              "              style=\"display:none;\">\n",
              "        \n",
              "  <svg xmlns=\"http://www.w3.org/2000/svg\" height=\"24px\"viewBox=\"0 0 24 24\"\n",
              "       width=\"24px\">\n",
              "    <path d=\"M0 0h24v24H0V0z\" fill=\"none\"/>\n",
              "    <path d=\"M18.56 5.44l.94 2.06.94-2.06 2.06-.94-2.06-.94-.94-2.06-.94 2.06-2.06.94zm-11 1L8.5 8.5l.94-2.06 2.06-.94-2.06-.94L8.5 2.5l-.94 2.06-2.06.94zm10 10l.94 2.06.94-2.06 2.06-.94-2.06-.94-.94-2.06-.94 2.06-2.06.94z\"/><path d=\"M17.41 7.96l-1.37-1.37c-.4-.4-.92-.59-1.43-.59-.52 0-1.04.2-1.43.59L10.3 9.45l-7.72 7.72c-.78.78-.78 2.05 0 2.83L4 21.41c.39.39.9.59 1.41.59.51 0 1.02-.2 1.41-.59l7.78-7.78 2.81-2.81c.8-.78.8-2.07 0-2.86zM5.41 20L4 18.59l7.72-7.72 1.47 1.35L5.41 20z\"/>\n",
              "  </svg>\n",
              "      </button>\n",
              "      \n",
              "  <style>\n",
              "    .colab-df-container {\n",
              "      display:flex;\n",
              "      flex-wrap:wrap;\n",
              "      gap: 12px;\n",
              "    }\n",
              "\n",
              "    .colab-df-convert {\n",
              "      background-color: #E8F0FE;\n",
              "      border: none;\n",
              "      border-radius: 50%;\n",
              "      cursor: pointer;\n",
              "      display: none;\n",
              "      fill: #1967D2;\n",
              "      height: 32px;\n",
              "      padding: 0 0 0 0;\n",
              "      width: 32px;\n",
              "    }\n",
              "\n",
              "    .colab-df-convert:hover {\n",
              "      background-color: #E2EBFA;\n",
              "      box-shadow: 0px 1px 2px rgba(60, 64, 67, 0.3), 0px 1px 3px 1px rgba(60, 64, 67, 0.15);\n",
              "      fill: #174EA6;\n",
              "    }\n",
              "\n",
              "    [theme=dark] .colab-df-convert {\n",
              "      background-color: #3B4455;\n",
              "      fill: #D2E3FC;\n",
              "    }\n",
              "\n",
              "    [theme=dark] .colab-df-convert:hover {\n",
              "      background-color: #434B5C;\n",
              "      box-shadow: 0px 1px 3px 1px rgba(0, 0, 0, 0.15);\n",
              "      filter: drop-shadow(0px 1px 2px rgba(0, 0, 0, 0.3));\n",
              "      fill: #FFFFFF;\n",
              "    }\n",
              "  </style>\n",
              "\n",
              "      <script>\n",
              "        const buttonEl =\n",
              "          document.querySelector('#df-a3661411-0d41-476f-8fb3-e5cdb88cb44a button.colab-df-convert');\n",
              "        buttonEl.style.display =\n",
              "          google.colab.kernel.accessAllowed ? 'block' : 'none';\n",
              "\n",
              "        async function convertToInteractive(key) {\n",
              "          const element = document.querySelector('#df-a3661411-0d41-476f-8fb3-e5cdb88cb44a');\n",
              "          const dataTable =\n",
              "            await google.colab.kernel.invokeFunction('convertToInteractive',\n",
              "                                                     [key], {});\n",
              "          if (!dataTable) return;\n",
              "\n",
              "          const docLinkHtml = 'Like what you see? Visit the ' +\n",
              "            '<a target=\"_blank\" href=https://colab.research.google.com/notebooks/data_table.ipynb>data table notebook</a>'\n",
              "            + ' to learn more about interactive tables.';\n",
              "          element.innerHTML = '';\n",
              "          dataTable['output_type'] = 'display_data';\n",
              "          await google.colab.output.renderOutput(dataTable, element);\n",
              "          const docLink = document.createElement('div');\n",
              "          docLink.innerHTML = docLinkHtml;\n",
              "          element.appendChild(docLink);\n",
              "        }\n",
              "      </script>\n",
              "    </div>\n",
              "  </div>\n",
              "  "
            ],
            "text/plain": [
              "       sat   gpa  gpa_predicted\n",
              "0   1925.0  3.40       3.455470\n",
              "1   1760.0  2.54       3.224034\n",
              "2   1861.0  3.58       3.365701\n",
              "3   2050.0  3.81       3.630800\n",
              "4   1887.0  3.47       3.402169\n",
              "5   1714.0  2.40       3.159512\n",
              "6   1850.0  3.38       3.350272\n",
              "7   2015.0  3.62       3.581708\n",
              "8   1702.0  3.39       3.142681\n",
              "9   1872.0  3.17       3.381130\n",
              "10  1934.0  3.54       3.468094\n",
              "11  1735.0  3.08       3.188968\n",
              "12  1693.0  2.83       3.130057\n",
              "13  1987.0  3.73       3.542434\n",
              "14  1934.0  3.28       3.468094\n",
              "15  1802.0  3.41       3.282945\n",
              "16  1787.0  3.28       3.261905"
            ]
          },
          "metadata": {},
          "execution_count": 18
        }
      ]
    },
    {
      "cell_type": "code",
      "source": [
        "lr.score(sat_test,gpa_test)"
      ],
      "metadata": {
        "colab": {
          "base_uri": "https://localhost:8080/"
        },
        "id": "6foOKntaiOXa",
        "outputId": "a4be40af-e897-4f91-f007-467ef98dc04c"
      },
      "execution_count": null,
      "outputs": [
        {
          "output_type": "execute_result",
          "data": {
            "text/plain": [
              "0.40832077589616333"
            ]
          },
          "metadata": {},
          "execution_count": 19
        }
      ]
    },
    {
      "cell_type": "code",
      "source": [
        "plt.scatter(sat_test, gpa_test)\n",
        "plt.plot(sat_train, lr.predict(sat_train), color = \"r\")"
      ],
      "metadata": {
        "colab": {
          "base_uri": "https://localhost:8080/",
          "height": 282
        },
        "id": "bidCkBVoisBt",
        "outputId": "ba1153da-c8fd-45cf-ed94-a9eed6d47ebb"
      },
      "execution_count": null,
      "outputs": [
        {
          "output_type": "execute_result",
          "data": {
            "text/plain": [
              "[<matplotlib.lines.Line2D at 0x7f91d5f22550>]"
            ]
          },
          "metadata": {},
          "execution_count": 20
        },
        {
          "output_type": "display_data",
          "data": {
            "image/png": "[encoded data removed]",
            "text/plain": [
              "<Figure size 432x288 with 1 Axes>"
            ]
          },
          "metadata": {
            "needs_background": "light"
          }
        }
      ]
    },
    {
      "cell_type": "code",
      "source": [
        ""
      ],
      "metadata": {
        "id": "Zr-T_T8XjrCI"
      },
      "execution_count": null,
      "outputs": []
    },
    {
      "cell_type": "code",
      "source": [
        ""
      ],
      "metadata": {
        "id": "Y6hiR6jAb8F9"
      },
      "execution_count": null,
      "outputs": []
    }
  ]
}